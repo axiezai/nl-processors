{
 "cells": [
  {
   "cell_type": "markdown",
   "id": "c97fd17e-b27c-4c47-be1f-7844ac2fd39e",
   "metadata": {},
   "source": [
    "## Get Data:\n",
    "\n",
    "Use `datalad` to clone and get subject specific dataset from Study Forrest."
   ]
  },
  {
   "cell_type": "code",
   "execution_count": null,
   "id": "4ac2e3e5-a168-4554-af44-18c1f8aca35d",
   "metadata": {},
   "outputs": [],
   "source": [
    "import os\n",
    "import glob\n",
    "import datalad.api as dl\n",
    "import pandas as pd"
   ]
  }
 ],
 "metadata": {
  "kernelspec": {
   "display_name": "image_py3",
   "language": "python",
   "name": "image_py3"
  },
  "language_info": {
   "codemirror_mode": {
    "name": "ipython",
    "version": 3
   },
   "file_extension": ".py",
   "mimetype": "text/x-python",
   "name": "python",
   "nbconvert_exporter": "python",
   "pygments_lexer": "ipython3",
   "version": "3.7.10"
  }
 },
 "nbformat": 4,
 "nbformat_minor": 5
}
