{
 "cells": [
  {
   "cell_type": "code",
   "execution_count": 1,
   "source": [
    "import os, sys\n",
    "import glob\n",
    "import pandas as pd\n",
    "import natsort\n",
    "import numpy as np\n",
    "import matplotlib.pyplot as plt\n",
    "\n",
    "plt.style.use('seaborn')"
   ],
   "outputs": [],
   "metadata": {}
  },
  {
   "cell_type": "markdown",
   "source": [
    "# Extract eye-gaze data based on scene"
   ],
   "metadata": {}
  },
  {
   "cell_type": "code",
   "execution_count": 2,
   "source": [
    "def get_files(pattern):\n",
    "    \"\"\"\n",
    "    Extracts file in alphanumerical order that match the provided pattern\n",
    "    \"\"\"\n",
    "    if isinstance(pattern, list):\n",
    "        pattern = os.path.join(*pattern)\n",
    "        \n",
    "    files = natsort.natsorted(glob.glob(pattern))\n",
    "    if not files:\n",
    "        raise FileNotFoundError('Pattern could not detect file(s)')\n",
    "        \n",
    "    return files"
   ],
   "outputs": [],
   "metadata": {}
  },
  {
   "cell_type": "markdown",
   "source": [
    "Load in one subject's eye-tracking data:"
   ],
   "metadata": {}
  },
  {
   "cell_type": "code",
   "execution_count": 3,
   "source": [
    "data_path = '/Users/xxie/hack/neuromatch/datasets/study_forrest'\n",
    "\n",
    "sub = '01'\n",
    "mod = 'recording-eyegaze_physio'\n",
    "\n",
    "sample_files = get_files(data_path + '/sub-{}/*_physio.tsv'.format(sub))\n",
    "eyedf = pd.read_csv(sample_files[0], sep='\\t', names = ['x', 'y', 'dil', 'frame'])\n",
    "eyedf.describe()"
   ],
   "outputs": [
    {
     "output_type": "execute_result",
     "data": {
      "text/plain": [
       "                   x              y            dil          frame\n",
       "count  884951.000000  884951.000000  902029.000000  902029.000000\n",
       "mean      645.929251     264.699422    1268.730623   11277.890645\n",
       "std       201.535113     114.777151     251.186395    6509.522215\n",
       "min       -41.600000    -968.100000       0.000000       1.000000\n",
       "25%       506.300000     180.300000    1161.000000    5640.000000\n",
       "50%       654.400000     251.600000    1263.000000   11278.000000\n",
       "75%       781.200000     337.200000    1389.000000   16915.000000\n",
       "max      1343.100000     728.900000    2338.000000   22551.000000"
      ],
      "text/html": [
       "<div>\n",
       "<style scoped>\n",
       "    .dataframe tbody tr th:only-of-type {\n",
       "        vertical-align: middle;\n",
       "    }\n",
       "\n",
       "    .dataframe tbody tr th {\n",
       "        vertical-align: top;\n",
       "    }\n",
       "\n",
       "    .dataframe thead th {\n",
       "        text-align: right;\n",
       "    }\n",
       "</style>\n",
       "<table border=\"1\" class=\"dataframe\">\n",
       "  <thead>\n",
       "    <tr style=\"text-align: right;\">\n",
       "      <th></th>\n",
       "      <th>x</th>\n",
       "      <th>y</th>\n",
       "      <th>dil</th>\n",
       "      <th>frame</th>\n",
       "    </tr>\n",
       "  </thead>\n",
       "  <tbody>\n",
       "    <tr>\n",
       "      <th>count</th>\n",
       "      <td>884951.000000</td>\n",
       "      <td>884951.000000</td>\n",
       "      <td>902029.000000</td>\n",
       "      <td>902029.000000</td>\n",
       "    </tr>\n",
       "    <tr>\n",
       "      <th>mean</th>\n",
       "      <td>645.929251</td>\n",
       "      <td>264.699422</td>\n",
       "      <td>1268.730623</td>\n",
       "      <td>11277.890645</td>\n",
       "    </tr>\n",
       "    <tr>\n",
       "      <th>std</th>\n",
       "      <td>201.535113</td>\n",
       "      <td>114.777151</td>\n",
       "      <td>251.186395</td>\n",
       "      <td>6509.522215</td>\n",
       "    </tr>\n",
       "    <tr>\n",
       "      <th>min</th>\n",
       "      <td>-41.600000</td>\n",
       "      <td>-968.100000</td>\n",
       "      <td>0.000000</td>\n",
       "      <td>1.000000</td>\n",
       "    </tr>\n",
       "    <tr>\n",
       "      <th>25%</th>\n",
       "      <td>506.300000</td>\n",
       "      <td>180.300000</td>\n",
       "      <td>1161.000000</td>\n",
       "      <td>5640.000000</td>\n",
       "    </tr>\n",
       "    <tr>\n",
       "      <th>50%</th>\n",
       "      <td>654.400000</td>\n",
       "      <td>251.600000</td>\n",
       "      <td>1263.000000</td>\n",
       "      <td>11278.000000</td>\n",
       "    </tr>\n",
       "    <tr>\n",
       "      <th>75%</th>\n",
       "      <td>781.200000</td>\n",
       "      <td>337.200000</td>\n",
       "      <td>1389.000000</td>\n",
       "      <td>16915.000000</td>\n",
       "    </tr>\n",
       "    <tr>\n",
       "      <th>max</th>\n",
       "      <td>1343.100000</td>\n",
       "      <td>728.900000</td>\n",
       "      <td>2338.000000</td>\n",
       "      <td>22551.000000</td>\n",
       "    </tr>\n",
       "  </tbody>\n",
       "</table>\n",
       "</div>"
      ]
     },
     "metadata": {},
     "execution_count": 3
    }
   ],
   "metadata": {}
  },
  {
   "cell_type": "code",
   "execution_count": 11,
   "source": [
    "eyedf.head()"
   ],
   "outputs": [
    {
     "output_type": "execute_result",
     "data": {
      "text/plain": [
       "       x      y     dil  frame   time\n",
       "0  786.0  501.8  1246.0      1  0.000\n",
       "1  782.9  504.8  1250.0      1  0.001\n",
       "2  777.3  508.0  1251.0      1  0.002\n",
       "3  774.9  508.2  1253.0      1  0.003\n",
       "4  775.2  506.4  1254.0      1  0.004"
      ],
      "text/html": [
       "<div>\n",
       "<style scoped>\n",
       "    .dataframe tbody tr th:only-of-type {\n",
       "        vertical-align: middle;\n",
       "    }\n",
       "\n",
       "    .dataframe tbody tr th {\n",
       "        vertical-align: top;\n",
       "    }\n",
       "\n",
       "    .dataframe thead th {\n",
       "        text-align: right;\n",
       "    }\n",
       "</style>\n",
       "<table border=\"1\" class=\"dataframe\">\n",
       "  <thead>\n",
       "    <tr style=\"text-align: right;\">\n",
       "      <th></th>\n",
       "      <th>x</th>\n",
       "      <th>y</th>\n",
       "      <th>dil</th>\n",
       "      <th>frame</th>\n",
       "      <th>time</th>\n",
       "    </tr>\n",
       "  </thead>\n",
       "  <tbody>\n",
       "    <tr>\n",
       "      <th>0</th>\n",
       "      <td>786.0</td>\n",
       "      <td>501.8</td>\n",
       "      <td>1246.0</td>\n",
       "      <td>1</td>\n",
       "      <td>0.000</td>\n",
       "    </tr>\n",
       "    <tr>\n",
       "      <th>1</th>\n",
       "      <td>782.9</td>\n",
       "      <td>504.8</td>\n",
       "      <td>1250.0</td>\n",
       "      <td>1</td>\n",
       "      <td>0.001</td>\n",
       "    </tr>\n",
       "    <tr>\n",
       "      <th>2</th>\n",
       "      <td>777.3</td>\n",
       "      <td>508.0</td>\n",
       "      <td>1251.0</td>\n",
       "      <td>1</td>\n",
       "      <td>0.002</td>\n",
       "    </tr>\n",
       "    <tr>\n",
       "      <th>3</th>\n",
       "      <td>774.9</td>\n",
       "      <td>508.2</td>\n",
       "      <td>1253.0</td>\n",
       "      <td>1</td>\n",
       "      <td>0.003</td>\n",
       "    </tr>\n",
       "    <tr>\n",
       "      <th>4</th>\n",
       "      <td>775.2</td>\n",
       "      <td>506.4</td>\n",
       "      <td>1254.0</td>\n",
       "      <td>1</td>\n",
       "      <td>0.004</td>\n",
       "    </tr>\n",
       "  </tbody>\n",
       "</table>\n",
       "</div>"
      ]
     },
     "metadata": {},
     "execution_count": 11
    }
   ],
   "metadata": {}
  },
  {
   "cell_type": "code",
   "execution_count": 4,
   "source": [
    "plt.scatter(eyedf['x'], eyedf['y'])"
   ],
   "outputs": [
    {
     "output_type": "execute_result",
     "data": {
      "text/plain": [
       "<matplotlib.collections.PathCollection at 0x1222acb20>"
      ]
     },
     "metadata": {},
     "execution_count": 4
    },
    {
     "output_type": "display_data",
     "data": {
      "text/plain": [
       "<Figure size 576x396 with 1 Axes>"
      ],
      "image/png": "[encoded data removed]"
     },
     "metadata": {}
    }
   ],
   "metadata": {}
  },
  {
   "cell_type": "markdown",
   "source": [
    "Sampling and frames information, make a time vector out of 1000Hz data:"
   ],
   "metadata": {}
  },
  {
   "cell_type": "code",
   "execution_count": 5,
   "source": [
    "sampling_freq = 1000  # 1000Hz eye gaze recording\n",
    "fps = 25  # movie sampling rate\n",
    "fadeinframes = 25\n",
    "fadeoutframes = 100\n",
    "\n",
    "tvec = eyedf.index.values/sampling_freq\n",
    "# append the tvec to dataframe as time column\n",
    "eyedf['time'] = (tvec)\n",
    "eyedf.head()"
   ],
   "outputs": [
    {
     "output_type": "execute_result",
     "data": {
      "text/plain": [
       "       x      y     dil  frame   time\n",
       "0  786.0  501.8  1246.0      1  0.000\n",
       "1  782.9  504.8  1250.0      1  0.001\n",
       "2  777.3  508.0  1251.0      1  0.002\n",
       "3  774.9  508.2  1253.0      1  0.003\n",
       "4  775.2  506.4  1254.0      1  0.004"
      ],
      "text/html": [
       "<div>\n",
       "<style scoped>\n",
       "    .dataframe tbody tr th:only-of-type {\n",
       "        vertical-align: middle;\n",
       "    }\n",
       "\n",
       "    .dataframe tbody tr th {\n",
       "        vertical-align: top;\n",
       "    }\n",
       "\n",
       "    .dataframe thead th {\n",
       "        text-align: right;\n",
       "    }\n",
       "</style>\n",
       "<table border=\"1\" class=\"dataframe\">\n",
       "  <thead>\n",
       "    <tr style=\"text-align: right;\">\n",
       "      <th></th>\n",
       "      <th>x</th>\n",
       "      <th>y</th>\n",
       "      <th>dil</th>\n",
       "      <th>frame</th>\n",
       "      <th>time</th>\n",
       "    </tr>\n",
       "  </thead>\n",
       "  <tbody>\n",
       "    <tr>\n",
       "      <th>0</th>\n",
       "      <td>786.0</td>\n",
       "      <td>501.8</td>\n",
       "      <td>1246.0</td>\n",
       "      <td>1</td>\n",
       "      <td>0.000</td>\n",
       "    </tr>\n",
       "    <tr>\n",
       "      <th>1</th>\n",
       "      <td>782.9</td>\n",
       "      <td>504.8</td>\n",
       "      <td>1250.0</td>\n",
       "      <td>1</td>\n",
       "      <td>0.001</td>\n",
       "    </tr>\n",
       "    <tr>\n",
       "      <th>2</th>\n",
       "      <td>777.3</td>\n",
       "      <td>508.0</td>\n",
       "      <td>1251.0</td>\n",
       "      <td>1</td>\n",
       "      <td>0.002</td>\n",
       "    </tr>\n",
       "    <tr>\n",
       "      <th>3</th>\n",
       "      <td>774.9</td>\n",
       "      <td>508.2</td>\n",
       "      <td>1253.0</td>\n",
       "      <td>1</td>\n",
       "      <td>0.003</td>\n",
       "    </tr>\n",
       "    <tr>\n",
       "      <th>4</th>\n",
       "      <td>775.2</td>\n",
       "      <td>506.4</td>\n",
       "      <td>1254.0</td>\n",
       "      <td>1</td>\n",
       "      <td>0.004</td>\n",
       "    </tr>\n",
       "  </tbody>\n",
       "</table>\n",
       "</div>"
      ]
     },
     "metadata": {},
     "execution_count": 5
    }
   ],
   "metadata": {}
  },
  {
   "cell_type": "code",
   "execution_count": 6,
   "source": [
    "mov_dur = eyedf['time'].values[-1]/60\n",
    "print(f'Recording length is {mov_dur:.2f} minutes')"
   ],
   "outputs": [
    {
     "output_type": "stream",
     "name": "stdout",
     "text": [
      "Recording length is 15.03 minutes\n"
     ]
    }
   ],
   "metadata": {}
  },
  {
   "cell_type": "markdown",
   "source": [
    "Load in movie transcript, check scene times vs. recording times:"
   ],
   "metadata": {}
  },
  {
   "cell_type": "code",
   "execution_count": 7,
   "source": [
    "movdf = pd.read_csv('../../data/studyforrest_german_audio_transcript.csv', names=['start', 'end', 'transcript'])\n",
    "movdf.describe()"
   ],
   "outputs": [
    {
     "output_type": "execute_result",
     "data": {
      "text/plain": [
       "             start          end\n",
       "count   573.000000   573.000000\n",
       "mean   3580.439058  3583.834206\n",
       "std    2054.162017  2054.015837\n",
       "min       1.300000    10.500000\n",
       "25%    1697.600000  1698.800000\n",
       "50%    3519.500000  3524.200000\n",
       "75%    5391.700000  5396.300000\n",
       "max    7083.200000  7084.300000"
      ],
      "text/html": [
       "<div>\n",
       "<style scoped>\n",
       "    .dataframe tbody tr th:only-of-type {\n",
       "        vertical-align: middle;\n",
       "    }\n",
       "\n",
       "    .dataframe tbody tr th {\n",
       "        vertical-align: top;\n",
       "    }\n",
       "\n",
       "    .dataframe thead th {\n",
       "        text-align: right;\n",
       "    }\n",
       "</style>\n",
       "<table border=\"1\" class=\"dataframe\">\n",
       "  <thead>\n",
       "    <tr style=\"text-align: right;\">\n",
       "      <th></th>\n",
       "      <th>start</th>\n",
       "      <th>end</th>\n",
       "    </tr>\n",
       "  </thead>\n",
       "  <tbody>\n",
       "    <tr>\n",
       "      <th>count</th>\n",
       "      <td>573.000000</td>\n",
       "      <td>573.000000</td>\n",
       "    </tr>\n",
       "    <tr>\n",
       "      <th>mean</th>\n",
       "      <td>3580.439058</td>\n",
       "      <td>3583.834206</td>\n",
       "    </tr>\n",
       "    <tr>\n",
       "      <th>std</th>\n",
       "      <td>2054.162017</td>\n",
       "      <td>2054.015837</td>\n",
       "    </tr>\n",
       "    <tr>\n",
       "      <th>min</th>\n",
       "      <td>1.300000</td>\n",
       "      <td>10.500000</td>\n",
       "    </tr>\n",
       "    <tr>\n",
       "      <th>25%</th>\n",
       "      <td>1697.600000</td>\n",
       "      <td>1698.800000</td>\n",
       "    </tr>\n",
       "    <tr>\n",
       "      <th>50%</th>\n",
       "      <td>3519.500000</td>\n",
       "      <td>3524.200000</td>\n",
       "    </tr>\n",
       "    <tr>\n",
       "      <th>75%</th>\n",
       "      <td>5391.700000</td>\n",
       "      <td>5396.300000</td>\n",
       "    </tr>\n",
       "    <tr>\n",
       "      <th>max</th>\n",
       "      <td>7083.200000</td>\n",
       "      <td>7084.300000</td>\n",
       "    </tr>\n",
       "  </tbody>\n",
       "</table>\n",
       "</div>"
      ]
     },
     "metadata": {},
     "execution_count": 7
    }
   ],
   "metadata": {}
  },
  {
   "cell_type": "code",
   "execution_count": 8,
   "source": [
    "movdf.head()"
   ],
   "outputs": [
    {
     "output_type": "execute_result",
     "data": {
      "text/plain": [
       "   start   end                                         transcript\n",
       "0    1.3  10.5  Eine Computeranimation: Auf einen schroffen Be...\n",
       "1   15.9  19.5  Vor bewölktem Himmel schwebt eine grau-weiße F...\n",
       "2   22.6  25.8  In einer Stadt segelt sie über die Baumkronen ...\n",
       "3   31.7  36.7  Ein Robert-Zemeckis-Film: Tom Hanks als 'FORRE...\n",
       "4   40.7  61.0  Die Feder fliegt ein paar Meter über den Wipfe..."
      ],
      "text/html": [
       "<div>\n",
       "<style scoped>\n",
       "    .dataframe tbody tr th:only-of-type {\n",
       "        vertical-align: middle;\n",
       "    }\n",
       "\n",
       "    .dataframe tbody tr th {\n",
       "        vertical-align: top;\n",
       "    }\n",
       "\n",
       "    .dataframe thead th {\n",
       "        text-align: right;\n",
       "    }\n",
       "</style>\n",
       "<table border=\"1\" class=\"dataframe\">\n",
       "  <thead>\n",
       "    <tr style=\"text-align: right;\">\n",
       "      <th></th>\n",
       "      <th>start</th>\n",
       "      <th>end</th>\n",
       "      <th>transcript</th>\n",
       "    </tr>\n",
       "  </thead>\n",
       "  <tbody>\n",
       "    <tr>\n",
       "      <th>0</th>\n",
       "      <td>1.3</td>\n",
       "      <td>10.5</td>\n",
       "      <td>Eine Computeranimation: Auf einen schroffen Be...</td>\n",
       "    </tr>\n",
       "    <tr>\n",
       "      <th>1</th>\n",
       "      <td>15.9</td>\n",
       "      <td>19.5</td>\n",
       "      <td>Vor bewölktem Himmel schwebt eine grau-weiße F...</td>\n",
       "    </tr>\n",
       "    <tr>\n",
       "      <th>2</th>\n",
       "      <td>22.6</td>\n",
       "      <td>25.8</td>\n",
       "      <td>In einer Stadt segelt sie über die Baumkronen ...</td>\n",
       "    </tr>\n",
       "    <tr>\n",
       "      <th>3</th>\n",
       "      <td>31.7</td>\n",
       "      <td>36.7</td>\n",
       "      <td>Ein Robert-Zemeckis-Film: Tom Hanks als 'FORRE...</td>\n",
       "    </tr>\n",
       "    <tr>\n",
       "      <th>4</th>\n",
       "      <td>40.7</td>\n",
       "      <td>61.0</td>\n",
       "      <td>Die Feder fliegt ein paar Meter über den Wipfe...</td>\n",
       "    </tr>\n",
       "  </tbody>\n",
       "</table>\n",
       "</div>"
      ]
     },
     "metadata": {},
     "execution_count": 8
    }
   ],
   "metadata": {}
  },
  {
   "cell_type": "code",
   "execution_count": 9,
   "source": [
    "def extract_scene_eyegaze(df_movie, df_eyegaze, scene_num):\n",
    "    \"\"\"\n",
    "    Extracts indices of df_eyegaze based on scene number\n",
    "\n",
    "    Args:\n",
    "        df_movie ([type]): [description]\n",
    "        df_eyegaze ([type]): [description]\n",
    "        scene_num ([int]): Scene number or row in movie transcript file\n",
    "\n",
    "    Returns:\n",
    "        x[array]: x coordinates during scene\n",
    "        y[array]: y coordinates during scene\n",
    "    \"\"\"\n",
    "    ind = np.where(np.logical_and(\n",
    "        df_movie['start'].iloc[scene_num] < df_eyegaze['time'].values,\n",
    "        df_movie['end'].iloc[scene_num] > df_eyegaze['time'].values\n",
    "    ))\n",
    "\n",
    "    return df_eyegaze['x'].iloc[ind], df_eyegaze['y'].iloc[ind]\n",
    "\n",
    "\n",
    "scene = 1\n",
    "x1, y1 = extract_scene_eyegaze(movdf, eyedf, scene)\n",
    "plt.scatter(x1, y1)"
   ],
   "outputs": [
    {
     "output_type": "execute_result",
     "data": {
      "text/plain": [
       "<matplotlib.collections.PathCollection at 0x1223e4c40>"
      ]
     },
     "metadata": {},
     "execution_count": 9
    },
    {
     "output_type": "display_data",
     "data": {
      "text/plain": [
       "<Figure size 576x396 with 1 Axes>"
      ],
      "image/png": "[encoded data removed]"
     },
     "metadata": {}
    }
   ],
   "metadata": {}
  },
  {
   "cell_type": "code",
   "execution_count": 18,
   "source": [
    "np.sum(eyedf['frame'].values <= 27)"
   ],
   "outputs": [
    {
     "output_type": "execute_result",
     "data": {
      "text/plain": [
       "996"
      ]
     },
     "metadata": {},
     "execution_count": 18
    }
   ],
   "metadata": {}
  },
  {
   "cell_type": "code",
   "execution_count": null,
   "source": [],
   "outputs": [],
   "metadata": {}
  }
 ],
 "metadata": {
  "orig_nbformat": 4,
  "language_info": {
   "name": "python",
   "version": "3.9.6",
   "mimetype": "text/x-python",
   "codemirror_mode": {
    "name": "ipython",
    "version": 3
   },
   "pygments_lexer": "ipython3",
   "nbconvert_exporter": "python",
   "file_extension": ".py"
  },
  "kernelspec": {
   "name": "python3",
   "display_name": "Python 3.9.6 64-bit ('nl-processors': conda)"
  },
  "interpreter": {
   "hash": "eb8be277761d447a0e0b6c238d2c2028680d3d34ee89229561ba5f8717eea730"
  }
 },
 "nbformat": 4,
 "nbformat_minor": 2
}