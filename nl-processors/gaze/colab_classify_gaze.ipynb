{
  "nbformat": 4,
  "nbformat_minor": 0,
  "metadata": {
    "orig_nbformat": 4,
    "language_info": {
      "name": "python",
      "version": "3.9.6"
    },
    "kernelspec": {
      "name": "python3",
      "display_name": "Python 3.9.6 64-bit ('nl-processors': conda)"
    },
    "interpreter": {
      "hash": "eb8be277761d447a0e0b6c238d2c2028680d3d34ee89229561ba5f8717eea730"
    },
    "colab": {
      "name": "classify_gaze.ipynb",
      "provenance": [],
      "include_colab_link": true
    }
  },
  "cells": [
    {
      "cell_type": "markdown",
      "metadata": {
        "id": "view-in-github",
        "colab_type": "text"
      },
      "source": [
        "<a href=\"https://colab.research.google.com/github/axiezai/nl-processors/blob/main/nl-processors/gaze/colab_classify_gaze.ipynb\" target=\"_parent\"><img src=\"https://colab.research.google.com/assets/colab-badge.svg\" alt=\"Open In Colab\"/></a>"
      ]
    },
    {
      "cell_type": "markdown",
      "metadata": {
        "id": "jBIC6gIJ4qQY"
      },
      "source": [
        "## Load in GazeCom labeled data for training `[x,y]` coordinates. "
      ]
    },
    {
      "cell_type": "code",
      "metadata": {
        "id": "nB6U_1RP4sYh"
      },
      "source": [
        "import requests, zipfile\n",
        "\n",
        "# Download and unzip GazeCom training data in google colab:\n",
        "\n",
        "fname = 'GazeCom.zip'\n",
        "url = 'https://michaeldorr.de/smoothpursuit/GazeCom.zip'\n",
        "r = requests.get(url, allow_redirects=True)\n",
        "\n",
        "with open(fname, 'wb') as fd:\n",
        "  fd.write(r.content)\n",
        "\n",
        "with zipfile.ZipFile(fname, 'r') as zip_ref:\n",
        "  zip_ref.extractall('/content/GazeCom_data')"
      ],
      "execution_count": 2,
      "outputs": []
    },
    {
      "cell_type": "code",
      "metadata": {
        "id": "hWpC5-gN4qQg"
      },
      "source": [
        "import os\n",
        "import natsort\n",
        "import glob\n",
        "import time\n",
        "import random\n",
        "import numpy as np\n",
        "import pandas as pd\n",
        "import matplotlib.pyplot as plt\n",
        "\n",
        "from scipy.io import arff\n",
        "\n",
        "import torch\n",
        "import torch.nn as nn"
      ],
      "execution_count": 3,
      "outputs": []
    },
    {
      "cell_type": "markdown",
      "metadata": {
        "id": "QXC7rF914qQj"
      },
      "source": [
        "Helper functions:    "
      ]
    },
    {
      "cell_type": "code",
      "metadata": {
        "id": "2ELkX_Jb4qQj"
      },
      "source": [
        "def get_files(pattern):\n",
        "    \"\"\"\n",
        "    Extracts file in alphanumerical order that match the provided pattern\n",
        "    \"\"\"\n",
        "    if isinstance(pattern, list):\n",
        "        pattern = os.path.join(*pattern)\n",
        "        \n",
        "    files = natsort.natsorted(glob.glob(pattern))\n",
        "    if not files:\n",
        "        raise FileNotFoundError('Pattern could not detect file(s)')\n",
        "        \n",
        "    return files\n",
        "\n",
        "\n",
        "def set_seed(seed=None, seed_torch=True):\n",
        "    if seed is None:\n",
        "        seed = np.random.choice(2 ** 32)\n",
        "\n",
        "    random.seed(seed)\n",
        "    np.random.seed(seed)\n",
        "    if seed_torch:\n",
        "        torch.manual_seed(seed)\n",
        "        torch.cuda.manual_seed_all(seed)\n",
        "        torch.cuda.manual_seed(seed)\n",
        "        torch.backends.cudnn.benchmark = False\n",
        "        torch.backends.cudnn.deterministic = True\n",
        "    \n",
        "    print(f'Random seed {seed} has been set.')\n",
        "\n",
        "\n",
        "def seed_wworker(worker_id):\n",
        "    \"\"\"In case dataloader is used?\n",
        "    \"\"\"\n",
        "    worker_seed = torch.initial_seed() % 2 ** 32\n",
        "    np.random.seed(worker_seed)\n",
        "    random.seed(worker_seed)\n",
        "\n",
        "\n",
        "def set_device():\n",
        "    \"\"\"Using GPU or CPU?\n",
        "    \"\"\"\n",
        "    device = 'cuda' if torch.cuda.is_available() else \"cpu\"\n",
        "    if device != 'cuda':\n",
        "      print(\"WARNING: For this notebook to perform best, \"\n",
        "        \"if possible, in the menu under `Runtime` -> \"\n",
        "        \"`Change runtime type.`  select `GPU` \")\n",
        "    else:\n",
        "      print(\"GPU is enabled in this notebook.\")\n",
        "\n",
        "    return device"
      ],
      "execution_count": 6,
      "outputs": []
    },
    {
      "cell_type": "code",
      "metadata": {
        "id": "C0Ens6Q098n3",
        "outputId": "407badcc-ab15-4bf8-8050-5c2c3a476373",
        "colab": {
          "base_uri": "https://localhost:8080/",
          "height": 260
        }
      },
      "source": [
        "raw_data = get_files('/content/GazeCom_data/gaze_arff/*/*.arff')\n",
        "print(f'There are {len(raw_data)} raw eye gaze files')\n",
        "\n",
        "labeled_data = get_files('/content/GazeCom_data/ground_truth/*/*.arff')\n",
        "print(f'There are {len(labeled_data)} labeled eye gaze files')\n",
        "\n",
        "# Load one in and examine what's inside ARFF files:\n",
        "raw_arff = arff.loadarff(raw_data[0])\n",
        "raw_df = pd.DataFrame(raw_arff[0])\n",
        "print('Raw file:')\n",
        "raw_df.head()"
      ],
      "execution_count": 14,
      "outputs": [
        {
          "output_type": "stream",
          "text": [
            "There are 844 raw eye gaze files\n",
            "There are 844 labeled eye gaze files\n",
            "Raw file:\n"
          ],
          "name": "stdout"
        },
        {
          "output_type": "execute_result",
          "data": {
            "text/html": [
              "<div>\n",
              "<style scoped>\n",
              "    .dataframe tbody tr th:only-of-type {\n",
              "        vertical-align: middle;\n",
              "    }\n",
              "\n",
              "    .dataframe tbody tr th {\n",
              "        vertical-align: top;\n",
              "    }\n",
              "\n",
              "    .dataframe thead th {\n",
              "        text-align: right;\n",
              "    }\n",
              "</style>\n",
              "<table border=\"1\" class=\"dataframe\">\n",
              "  <thead>\n",
              "    <tr style=\"text-align: right;\">\n",
              "      <th></th>\n",
              "      <th>time</th>\n",
              "      <th>x</th>\n",
              "      <th>y</th>\n",
              "      <th>confidence</th>\n",
              "    </tr>\n",
              "  </thead>\n",
              "  <tbody>\n",
              "    <tr>\n",
              "      <th>0</th>\n",
              "      <td>1000.0</td>\n",
              "      <td>590.9</td>\n",
              "      <td>5.2</td>\n",
              "      <td>1.0</td>\n",
              "    </tr>\n",
              "    <tr>\n",
              "      <th>1</th>\n",
              "      <td>5000.0</td>\n",
              "      <td>590.9</td>\n",
              "      <td>5.2</td>\n",
              "      <td>1.0</td>\n",
              "    </tr>\n",
              "    <tr>\n",
              "      <th>2</th>\n",
              "      <td>9000.0</td>\n",
              "      <td>590.6</td>\n",
              "      <td>5.0</td>\n",
              "      <td>1.0</td>\n",
              "    </tr>\n",
              "    <tr>\n",
              "      <th>3</th>\n",
              "      <td>13000.0</td>\n",
              "      <td>590.4</td>\n",
              "      <td>5.0</td>\n",
              "      <td>1.0</td>\n",
              "    </tr>\n",
              "    <tr>\n",
              "      <th>4</th>\n",
              "      <td>17000.0</td>\n",
              "      <td>589.8</td>\n",
              "      <td>5.2</td>\n",
              "      <td>1.0</td>\n",
              "    </tr>\n",
              "  </tbody>\n",
              "</table>\n",
              "</div>"
            ],
            "text/plain": [
              "      time      x    y  confidence\n",
              "0   1000.0  590.9  5.2         1.0\n",
              "1   5000.0  590.9  5.2         1.0\n",
              "2   9000.0  590.6  5.0         1.0\n",
              "3  13000.0  590.4  5.0         1.0\n",
              "4  17000.0  589.8  5.2         1.0"
            ]
          },
          "metadata": {
            "tags": []
          },
          "execution_count": 14
        }
      ]
    },
    {
      "cell_type": "code",
      "metadata": {
        "id": "ZnxVh3Il_VYd",
        "outputId": "1127c144-cbdf-467d-c467-87611e4d133d",
        "colab": {
          "base_uri": "https://localhost:8080/",
          "height": 224
        }
      },
      "source": [
        "labeled_arff = arff.loadarff(labeled_data[0])\n",
        "labeled_df = pd.DataFrame(labeled_arff[0])\n",
        "print('Labeled file:')\n",
        "labeled_df.head()"
      ],
      "execution_count": 16,
      "outputs": [
        {
          "output_type": "stream",
          "text": [
            "Labeled file:\n"
          ],
          "name": "stdout"
        },
        {
          "output_type": "execute_result",
          "data": {
            "text/html": [
              "<div>\n",
              "<style scoped>\n",
              "    .dataframe tbody tr th:only-of-type {\n",
              "        vertical-align: middle;\n",
              "    }\n",
              "\n",
              "    .dataframe tbody tr th {\n",
              "        vertical-align: top;\n",
              "    }\n",
              "\n",
              "    .dataframe thead th {\n",
              "        text-align: right;\n",
              "    }\n",
              "</style>\n",
              "<table border=\"1\" class=\"dataframe\">\n",
              "  <thead>\n",
              "    <tr style=\"text-align: right;\">\n",
              "      <th></th>\n",
              "      <th>time</th>\n",
              "      <th>x</th>\n",
              "      <th>y</th>\n",
              "      <th>confidence</th>\n",
              "      <th>handlabeller1</th>\n",
              "      <th>handlabeller2</th>\n",
              "      <th>handlabeller_final</th>\n",
              "    </tr>\n",
              "  </thead>\n",
              "  <tbody>\n",
              "    <tr>\n",
              "      <th>0</th>\n",
              "      <td>1000.0</td>\n",
              "      <td>590.9</td>\n",
              "      <td>5.2</td>\n",
              "      <td>1.0</td>\n",
              "      <td>4.0</td>\n",
              "      <td>4.0</td>\n",
              "      <td>4.0</td>\n",
              "    </tr>\n",
              "    <tr>\n",
              "      <th>1</th>\n",
              "      <td>5000.0</td>\n",
              "      <td>590.9</td>\n",
              "      <td>5.2</td>\n",
              "      <td>1.0</td>\n",
              "      <td>4.0</td>\n",
              "      <td>4.0</td>\n",
              "      <td>4.0</td>\n",
              "    </tr>\n",
              "    <tr>\n",
              "      <th>2</th>\n",
              "      <td>9000.0</td>\n",
              "      <td>590.6</td>\n",
              "      <td>5.0</td>\n",
              "      <td>1.0</td>\n",
              "      <td>4.0</td>\n",
              "      <td>4.0</td>\n",
              "      <td>4.0</td>\n",
              "    </tr>\n",
              "    <tr>\n",
              "      <th>3</th>\n",
              "      <td>13000.0</td>\n",
              "      <td>590.4</td>\n",
              "      <td>5.0</td>\n",
              "      <td>1.0</td>\n",
              "      <td>4.0</td>\n",
              "      <td>4.0</td>\n",
              "      <td>4.0</td>\n",
              "    </tr>\n",
              "    <tr>\n",
              "      <th>4</th>\n",
              "      <td>17000.0</td>\n",
              "      <td>589.8</td>\n",
              "      <td>5.2</td>\n",
              "      <td>1.0</td>\n",
              "      <td>4.0</td>\n",
              "      <td>4.0</td>\n",
              "      <td>4.0</td>\n",
              "    </tr>\n",
              "  </tbody>\n",
              "</table>\n",
              "</div>"
            ],
            "text/plain": [
              "      time      x    y  ...  handlabeller1  handlabeller2  handlabeller_final\n",
              "0   1000.0  590.9  5.2  ...            4.0            4.0                 4.0\n",
              "1   5000.0  590.9  5.2  ...            4.0            4.0                 4.0\n",
              "2   9000.0  590.6  5.0  ...            4.0            4.0                 4.0\n",
              "3  13000.0  590.4  5.0  ...            4.0            4.0                 4.0\n",
              "4  17000.0  589.8  5.2  ...            4.0            4.0                 4.0\n",
              "\n",
              "[5 rows x 7 columns]"
            ]
          },
          "metadata": {
            "tags": []
          },
          "execution_count": 16
        }
      ]
    },
    {
      "cell_type": "code",
      "metadata": {
        "colab": {
          "base_uri": "https://localhost:8080/"
        },
        "id": "jPmgFYR94qQl",
        "outputId": "5b44fb7c-6258-4bc0-a402-eb8290ec3859"
      },
      "source": [
        "DEVICE = set_device()\n",
        "SEED = 42\n",
        "set_seed(SEED)"
      ],
      "execution_count": 15,
      "outputs": [
        {
          "output_type": "stream",
          "text": [
            "WARNING: For this notebook to perform best, if possible, in the menu under `Runtime` -> `Change runtime type.`  select `GPU` \n",
            "Random seed 42 has been set.\n"
          ],
          "name": "stdout"
        }
      ]
    }
  ]
}